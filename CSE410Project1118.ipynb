{
 "cells": [
  {
   "cell_type": "code",
   "execution_count": 1,
   "metadata": {},
   "outputs": [],
   "source": [
    "%matplotlib inline\n",
    "from alpha_vantage.timeseries import TimeSeries\n",
    "from alpha_vantage.techindicators import TechIndicators\n",
    "from alpha_vantage.sectorperformance import SectorPerformances\n",
    "from alpha_vantage.cryptocurrencies import CryptoCurrencies\n",
    "from pandas import DataFrame, read_csv\n",
    "from datetime import datetime\n",
    "from pandas.plotting import register_matplotlib_converters\n",
    "import csv\n",
    "import matplotlib\n",
    "import matplotlib.pyplot as plt\n",
    "import pandas as pd\n",
    "import os\n",
    "import numpy as np\n",
    "from datetime import date, timedelta\n",
    "from sklearn.metrics import mean_squared_error\n"
   ]
  },
  {
   "cell_type": "code",
   "execution_count": 2,
   "metadata": {},
   "outputs": [],
   "source": [
    "def unifyDate(date1):\n",
    "    if \"/\" in date1:\n",
    "        dates = date1.split(\"/\")\n",
    "        return dates[2]+\"-\"+dates[0]+\"-\"+dates[1];\n",
    "    else:\n",
    "        return date1;"
   ]
  },
  {
   "cell_type": "code",
   "execution_count": 6,
   "metadata": {},
   "outputs": [
    {
     "data": {
      "text/plain": [
       "array(['1999-12-9', '1999-12-10', '1999-12-13', ..., '2019-10-17',\n",
       "       '2019-10-18', '2019-10-21'], dtype=object)"
      ]
     },
     "execution_count": 6,
     "metadata": {},
     "output_type": "execute_result"
    }
   ],
   "source": [
    "Location = r'D:\\UBINFO\\Fall2019\\CSE410\\Project\\Saved_CSV\\AAPL_MACD_WOO.csv'\n",
    "macd = pd.read_csv(Location)\n",
    "macd_dates = macd['date'].to_numpy()\n",
    "macd_hist = macd['MACD_Hist'].to_numpy()\n",
    "macd_data = macd['MACD'].to_numpy()\n",
    "macd_signal = macd['MACD_Signal'].to_numpy()\n",
    "macd_woo = macd['WOO_ratings'].to_numpy()\n",
    "\n",
    "for i in range(len(macd_dates)):\n",
    "    macd_dates[i] = unifyDate(macd_dates[i]);\n",
    "\n",
    "macd_dates"
   ]
  },
  {
   "cell_type": "code",
   "execution_count": 7,
   "metadata": {},
   "outputs": [
    {
     "data": {
      "text/plain": [
       "array(['1999-11-29', '1999-11-30', '1999-12-01', ..., '2019-11-04',\n",
       "       '2019-11-05', '2019-11-06'], dtype=object)"
      ]
     },
     "execution_count": 7,
     "metadata": {},
     "output_type": "execute_result"
    }
   ],
   "source": [
    "Location = r'D:\\UBINFO\\Fall2019\\CSE410\\Project\\Saved_CSV\\AAPL_RSI.csv'\n",
    "rsi = pd.read_csv(Location)\n",
    "rsi_dates = rsi['date'].to_numpy()\n",
    "rsi_data = rsi['RSI'].to_numpy()\n",
    "\n",
    "rsi_dates"
   ]
  },
  {
   "cell_type": "code",
   "execution_count": 14,
   "metadata": {},
   "outputs": [
    {
     "data": {
      "text/plain": [
       "array(['1999-11-1', '1999-11-2', '1999-11-3', ..., '2019-10-29',\n",
       "       '2019-10-30', '2019-10-31'], dtype='<U10')"
      ]
     },
     "execution_count": 14,
     "metadata": {},
     "output_type": "execute_result"
    }
   ],
   "source": [
    "Location = r'D:\\UBINFO\\Fall2019\\CSE410\\Project\\Saved_CSV\\Price.csv'\n",
    "price = pd.read_csv(Location)\n",
    "price_close = price['close'].to_numpy()\n",
    "date_arr = price['date'].to_numpy()\n",
    "date_arr2 = [];\n",
    "for date2 in date_arr:\n",
    "    date_arr2.append(unifyDate(date2));\n",
    "date_arr2 = np.asarray(date_arr2)\n",
    "date_arr2"
   ]
  },
  {
   "cell_type": "code",
   "execution_count": null,
   "metadata": {},
   "outputs": [],
   "source": []
  },
  {
   "cell_type": "code",
   "execution_count": 67,
   "metadata": {
    "scrolled": true
   },
   "outputs": [
    {
     "data": {
      "text/plain": [
       "array(['1999-11-1', '1999-11-2', '1999-11-3', ..., '2019-1-15',\n",
       "       '2019-1-16', '2019-1-17'], dtype=object)"
      ]
     },
     "execution_count": 67,
     "metadata": {},
     "output_type": "execute_result"
    }
   ],
   "source": [
    "sma_200 = r'D:\\UBINFO\\Fall2019\\CSE410\\Project\\Saved_CSV\\SMA_200.csv'\n",
    "sma_50 = r'D:\\UBINFO\\Fall2019\\CSE410\\Project\\Saved_CSV\\SMA_50.csv'\n",
    "\n",
    "sma_200_data = pd.read_csv(sma_200).to_numpy()\n",
    "sma_50_data = pd.read_csv(sma_50).to_numpy()\n",
    "first_sma_200 = sma_200_data[0]\n",
    "first_sma_50 = sma_50_data[0]\n",
    "\n",
    "toAdd_200 = first_sma_200[1]/200\n",
    "toAdd_50 = first_sma_50[1]/50 \n",
    "\n",
    "sma_200 = toAdd_200   #day 1\n",
    "sma_50 = toAdd_50\n",
    "\n",
    "l = [None] * len(sma_200_data)\n",
    "\n",
    "sma_woo = [None] * len(sma_200_data)\n",
    "sma_dates =[None] * len(sma_200_data)\n",
    "\n",
    "#filling the gap of first 200 days\n",
    "for i in range(198):\n",
    "    d = date_arr[i]\n",
    "    #use real sma_50 data after day 50\n",
    "    val = 0\n",
    "    if i >= 50:\n",
    "        val = sma_50_data[i-49][1]\n",
    "    else:\n",
    "        val = sma_50\n",
    "    \n",
    "    woo=0\n",
    "    if price_close[i] > sma_50 and sma_50 > sma_200:\n",
    "        woo = 1;\n",
    "    elif  sma_50 > price_close[i] and price_close[i] > sma_200:\n",
    "        woo = 2;\n",
    "    elif  sma_50 > sma_200 and sma_200 > price_close[i]:\n",
    "        woo = 3;\n",
    "    elif  sma_200 > sma_50 and sma_50 > price_close[i]:\n",
    "        woo = 4;\n",
    "    elif  sma_200 > price_close[i] and price_close[i] > sma_50:\n",
    "        woo = 5;\n",
    "    elif  price_close[i] > sma_200 and sma_200 > sma_50:\n",
    "        woo = 6;\n",
    "    l[i] = [d, price_close[i], sma_200, sma_50, woo]\n",
    "    sma_200 = sma_200 + toAdd_200\n",
    "    sma_50 = sma_50 + toAdd_50\n",
    "    sma_woo[i] = woo\n",
    "    sma_dates[i] = d\n",
    "\n",
    "#add real sma_200_day data into previous array\n",
    "for i in range(199,len(sma_200_data)):\n",
    "    d = date_arr[i]\n",
    "    woo = 0\n",
    "    if price_close[i] > sma_50_data[i-49][1] and sma_50_data[i-49][1] > sma_200_data[i-199][1]:\n",
    "        woo = 1;\n",
    "    elif  sma_50_data[i-49][1] > price_close[i] and price_close[i] > sma_200_data[i-199][1]:\n",
    "        woo = 2;\n",
    "    elif  sma_50_data[i-49][1] > sma_200_data[i-199][1] and sma_200_data[i-199][1] > price_close[i]:\n",
    "        woo = 3;\n",
    "    elif  sma_200_data[i-199][1] > sma_50_data[i-49][1] and sma_50_data[i-49][1] > price_close[i]:\n",
    "        woo = 4;\n",
    "    elif  sma_200_data[i-199][1] > price_close[i] and price_close[i] > sma_50_data[i-49][1]:\n",
    "        woo = 5;\n",
    "    elif  price_close[i] > sma_200_data[i-199][1] and sma_200_data[i-199][1] > sma_50_data[i-49][1]:\n",
    "        woo = 6;\n",
    "    l[i] = [d, price_close[i], sma_200_data[i-199][1], sma_50_data[i-49][1], woo]\n",
    "    sma_woo[i] = woo\n",
    "    sma_dates[i] = d\n",
    "#l: date, closing price, sma_200, sma_50, woo rating\n",
    "sma_woo = np.asarray(sma_woo)\n",
    "sma_dates = np.asarray(sma_dates)\n",
    "none_idx = [];\n",
    "for i in range(len(sma_dates)):\n",
    "    if not sma_dates[i] == None:\n",
    "        sma_dates[i] = unifyDate(sma_dates[i]);\n",
    "    else:\n",
    "        none_idx.append(i);\n",
    "\n",
    "for i in none_idx:\n",
    "    np.delete(sma_dates,i)\n",
    "    np.delete(sma_woo,i)\n",
    "sma_dates"
   ]
  },
  {
   "cell_type": "code",
   "execution_count": 68,
   "metadata": {
    "scrolled": true
   },
   "outputs": [],
   "source": [
    "Location = r'D:\\UBINFO\\Fall2019\\CSE410\\Project\\PE_\\AAPL_quarterly_financial_data.csv'\n",
    "pc = pd.read_csv(Location)\n",
    "aapl_qtly_end_date = pc['Quarter end'].to_numpy()\n",
    "aapl_qtly_shares_adj = pc['Shares split adjusted'].to_numpy()\n",
    "aapl_qtly_shares_splitFac = pc['Split factor'].to_numpy()\n",
    "aapl_qtly_shares_asset = pc['Assets'].to_numpy()\n",
    "aapl_qtly_shares_liability = pc['Liabilities'].to_numpy()\n",
    "aapl_qtly_shares_equity = pc['Shareholders equity'].to_numpy()"
   ]
  },
  {
   "cell_type": "code",
   "execution_count": 69,
   "metadata": {},
   "outputs": [],
   "source": [
    "aapl_vec = [];\n",
    "aapl_dates = [];\n",
    "for i in range(len(aapl_qtly_end_date)-1):\n",
    "    date2 = aapl_qtly_end_date[i]\n",
    "    date22 = date2.split(\"/\");\n",
    "    date1 = aapl_qtly_end_date[i+1]\n",
    "    date12 = date1.split(\"/\");\n",
    "    start_date = date(int(date12[2]), int(date12[0]),int(date12[1]))\n",
    "    end_date = date(int(date22[2]), int(date22[0]),int(date22[1]))\n",
    "    delta = timedelta(days=1)\n",
    "    start_date += delta\n",
    "    end_date += delta\n",
    "    \n",
    "    temp_dates = [];\n",
    "    \n",
    "    start_shares = aapl_qtly_shares_adj[np.where(aapl_qtly_end_date == date1)];\n",
    "    end_shares = aapl_qtly_shares_adj[np.where(aapl_qtly_end_date == date2)];\n",
    "    \n",
    "    start_spfac = aapl_qtly_shares_splitFac[np.where(aapl_qtly_end_date == date1)];\n",
    "    end_spfac = aapl_qtly_shares_splitFac[np.where(aapl_qtly_end_date == date2)];\n",
    "    \n",
    "    start_asset = aapl_qtly_shares_asset[np.where(aapl_qtly_end_date == date1)];\n",
    "    end_asset = aapl_qtly_shares_asset[np.where(aapl_qtly_end_date == date2)];\n",
    "    \n",
    "    start_liability = aapl_qtly_shares_liability[np.where(aapl_qtly_end_date == date1)];\n",
    "    end_liability = aapl_qtly_shares_liability[np.where(aapl_qtly_end_date == date2)];\n",
    "    \n",
    "    start_equity = aapl_qtly_shares_equity[np.where(aapl_qtly_end_date == date1)];\n",
    "    end_equity = aapl_qtly_shares_equity[np.where(aapl_qtly_end_date == date2)];\n",
    "    \n",
    "    while start_date < end_date-delta:\n",
    "        datestr = start_date.strftime(\"%Y-%m-%d\")\n",
    "        start_date += delta\n",
    "        temp_dates.insert(0,datestr)\n",
    "        #print(start_date)\n",
    "    temp_dates.insert(0,(end_date-delta).strftime(\"%Y-%m-%d\"))\n",
    "    \n",
    "    delta_shares = (end_shares-start_shares)/len(temp_dates);\n",
    "    delta_spfac = (end_spfac-start_spfac)/len(temp_dates);\n",
    "    delta_asset = (end_asset-start_asset)/len(temp_dates);\n",
    "    delta_liability = (end_liability-start_liability)/len(temp_dates);\n",
    "    delta_equity = (end_equity-start_equity)/len(temp_dates);\n",
    "    \n",
    "    temp_vec = [];\n",
    "    \n",
    "    for j in range(len(temp_dates)-1):\n",
    "        temp_vec.insert(0,(start_shares+j*delta_shares,start_spfac+j*delta_spfac,start_asset+j*delta_asset,start_liability+j*delta_liability,start_equity+j*delta_equity))\n",
    "    #temp_vec.insert(0,(end_shares-delta_shares))\n",
    "    temp_vec.insert(0,(end_shares-delta_shares,end_spfac-delta_spfac,end_asset-delta_asset,end_liability-delta_liability,end_equity-delta_equity))\n",
    "    \n",
    "    aapl_vec += temp_vec;\n",
    "    aapl_dates += temp_dates;\n"
   ]
  },
  {
   "cell_type": "code",
   "execution_count": 70,
   "metadata": {
    "scrolled": true
   },
   "outputs": [
    {
     "data": {
      "text/plain": [
       "array(['2019-06-29', '2019-06-28', '2019-06-27', ..., '1994-01-03',\n",
       "       '1994-01-02', '1994-01-01'], dtype='<U10')"
      ]
     },
     "execution_count": 70,
     "metadata": {},
     "output_type": "execute_result"
    }
   ],
   "source": [
    "aapl_dates = np.asarray(aapl_dates)\n",
    "\n",
    "aapl_vec = np.asarray(aapl_vec)\n",
    "aapl_vec_new = [];\n",
    "for i in range(len(aapl_vec)):\n",
    "    temp_vec =aapl_vec[i];\n",
    "    new_vec = [];\n",
    "    for j in range(len(temp_vec)):\n",
    "        temp_temp_vec = temp_vec[j];\n",
    "        new_vec.append(temp_temp_vec);\n",
    "    aapl_vec_new.append(new_vec);\n",
    "aapl_vec = aapl_vec_new\n",
    "\n",
    "aapl_dates"
   ]
  },
  {
   "cell_type": "code",
   "execution_count": 152,
   "metadata": {
    "scrolled": true
   },
   "outputs": [],
   "source": [
    "X = []\n",
    "Y = []\n",
    "\n",
    "for date1 in aapl_dates:\n",
    "    if date1 in macd_dates and date1 in date_arr2 and date1 in rsi_dates:\n",
    "        macd_idx = np.where(macd_dates==date1);\n",
    "        price_idx = np.where(date_arr2==date1);\n",
    "        rsi_idx = np.where(rsi_dates==date1);\n",
    "        aapl_idx = np.where(aapl_dates==date1);\n",
    "        \n",
    "        smawoo_idx = np.where(sma_dates==date1);\n",
    "        if len(macd_idx) == 0 or len(price_idx) == 0 or len(rsi_idx) == 0:\n",
    "            continue;\n",
    "        else:\n",
    "            temp_Arr = [];\n",
    "            if type(aapl_idx) is tuple:\n",
    "                aapl_idx = aapl_idx[0][0];\n",
    "            aapl_arr = np.asarray(aapl_vec[aapl_idx]);\n",
    "            aapl_arr = aapl_arr.flatten()\n",
    "            #print()\n",
    "            mhist = macd_hist[macd_idx];\n",
    "            #print(mhist)\n",
    "            mdata = macd_data[macd_idx];\n",
    "            #print(mdata)\n",
    "            msig = macd_signal[macd_idx];\n",
    "            #print(msig)\n",
    "            mwoo = macd_woo[macd_idx];\n",
    "            #print(mwoo)\n",
    "            rsi_val = rsi_data[rsi_idx];\n",
    "            #print(rsi_val)\n",
    "            sma_woo_val = sma_woo[smawoo_idx];\n",
    "            #print(sma_woo_val)\n",
    "            \n",
    "            temp_Arr.append(aapl_arr[0])\n",
    "            temp_Arr.append(aapl_arr[1])\n",
    "            temp_Arr.append(aapl_arr[2])\n",
    "            temp_Arr.append(aapl_arr[3])\n",
    "            temp_Arr.append(aapl_arr[4])\n",
    "            temp_Arr.append(mhist[0])\n",
    "            temp_Arr.append(mdata[0])\n",
    "            temp_Arr.append(msig[0])\n",
    "            temp_Arr.append(mwoo[0])\n",
    "            temp_Arr.append(rsi_val[0])\n",
    "            temp_Arr.append(sma_woo_val[0])\n",
    "            if not mwoo[0] == '#NAME?':\n",
    "                X.append(temp_Arr)\n",
    "                Y.append(price_close[price_idx][0])"
   ]
  },
  {
   "cell_type": "code",
   "execution_count": 153,
   "metadata": {},
   "outputs": [],
   "source": [
    "X = np.asarray(X)\n",
    "Y = np.asarray(Y)"
   ]
  },
  {
   "cell_type": "code",
   "execution_count": 154,
   "metadata": {
    "scrolled": true
   },
   "outputs": [
    {
     "data": {
      "text/plain": [
       "array([['6318863424.846154', '7.0', '49619131868.13187', ..., '1',\n",
       "        '60.6192', '2'],\n",
       "       ['6224039958.846154', '7.0', '39995956043.95605', ..., '4',\n",
       "        '31.6936', '4'],\n",
       "       ['6270150384.615385', '7.0', '216296703296.7033', ..., '2',\n",
       "        '58.0054', '1'],\n",
       "       ...,\n",
       "       ['5107806945.054945', '1.0', '389065934065.9341', ..., '1',\n",
       "        '72.8676', '1'],\n",
       "       ['6254652384.615385', '7.0', '221439560439.56042', ..., '1',\n",
       "        '64.4789', '1'],\n",
       "       ['4739109626.373627', '1.0', '367670329670.32965', ..., '3',\n",
       "        '48.295', '1']], dtype='<U32')"
      ]
     },
     "execution_count": 154,
     "metadata": {},
     "output_type": "execute_result"
    }
   ],
   "source": [
    "from sklearn.model_selection import train_test_split\n",
    "X_train, X_test, Y_train, Y_test = train_test_split(X, Y, test_size=0.3, random_state=1)\n",
    "\n",
    "X_train"
   ]
  },
  {
   "cell_type": "code",
   "execution_count": 155,
   "metadata": {},
   "outputs": [
    {
     "name": "stdout",
     "output_type": "stream",
     "text": [
      "599\n"
     ]
    }
   ],
   "source": [
    "print(len(X_train))"
   ]
  },
  {
   "cell_type": "code",
   "execution_count": 156,
   "metadata": {},
   "outputs": [
    {
     "data": {
      "text/plain": [
       "SVR(C=1.0, cache_size=200, coef0=0.0, degree=3, epsilon=0.2, gamma='scale',\n",
       "    kernel='rbf', max_iter=-1, shrinking=True, tol=0.001, verbose=False)"
      ]
     },
     "execution_count": 156,
     "metadata": {},
     "output_type": "execute_result"
    }
   ],
   "source": [
    "from sklearn.svm import SVR\n",
    "clf = SVR(gamma='scale', C=1.0, epsilon=0.2)\n",
    "clf.fit(X_train, Y_train)"
   ]
  },
  {
   "cell_type": "code",
   "execution_count": 157,
   "metadata": {},
   "outputs": [],
   "source": [
    "result  = clf.predict(X_test)"
   ]
  },
  {
   "cell_type": "code",
   "execution_count": 161,
   "metadata": {},
   "outputs": [
    {
     "data": {
      "text/plain": [
       "[<matplotlib.lines.Line2D at 0x1df45601240>]"
      ]
     },
     "execution_count": 161,
     "metadata": {},
     "output_type": "execute_result"
    },
    {
     "data": {
      "image/png": "[encoded data removed]",
      "text/plain": [
       "<Figure size 432x288 with 1 Axes>"
      ]
     },
     "metadata": {
      "needs_background": "light"
     },
     "output_type": "display_data"
    }
   ],
   "source": [
    "plt.plot(result)\n",
    "plt.plot(Y_test)\n",
    "plt.plot(np.subtract(result,Y_test))"
   ]
  },
  {
   "cell_type": "code",
   "execution_count": null,
   "metadata": {},
   "outputs": [],
   "source": []
  },
  {
   "cell_type": "code",
   "execution_count": null,
   "metadata": {},
   "outputs": [],
   "source": []
  }
 ],
 "metadata": {
  "kernelspec": {
   "display_name": "Python 3",
   "language": "python",
   "name": "python3"
  },
  "language_info": {
   "codemirror_mode": {
    "name": "ipython",
    "version": 3
   },
   "file_extension": ".py",
   "mimetype": "text/x-python",
   "name": "python",
   "nbconvert_exporter": "python",
   "pygments_lexer": "ipython3",
   "version": "3.7.3"
  }
 },
 "nbformat": 4,
 "nbformat_minor": 2
}
